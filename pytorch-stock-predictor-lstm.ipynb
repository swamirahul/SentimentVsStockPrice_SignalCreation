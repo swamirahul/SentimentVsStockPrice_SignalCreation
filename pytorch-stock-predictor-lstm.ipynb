{
 "cells": [
  {
   "cell_type": "markdown",
   "metadata": {},
   "source": [
    "# Pytorch LSTM Stock Predictor\n",
    "\n",
    "This is a Pytorch version of the original Keras LSTM Stock Predictor provided by [Super DataScience](https://www.superdatascience.com/deep-learning/), and also available elsewhere in this repo as a notebook."
   ]
  },
  {
   "cell_type": "code",
   "execution_count": 3,
   "metadata": {},
   "outputs": [],
   "source": [
    "import numpy as np\n",
    "import pandas as pd\n",
    "import matplotlib.pyplot as plt\n",
    "\n",
    "import torch.nn as nn\n",
    "import torch\n",
    "from torch.autograd import Variable"
   ]
  },
  {
   "cell_type": "code",
   "execution_count": null,
   "metadata": {},
   "outputs": [],
   "source": []
  },
  {
   "cell_type": "code",
   "execution_count": 24,
   "metadata": {},
   "outputs": [],
   "source": [
    "# Globals\n",
    "\n",
    "INPUT_SIZE = 60\n",
    "HIDDEN_SIZE = 64\n",
    "NUM_LAYERS = 2\n",
    "OUTPUT_SIZE = 1\n",
    "\n",
    "# Hyper parameters\n",
    "\n",
    "learning_rate = 0.001\n",
    "num_epochs = 50"
   ]
  },
  {
   "cell_type": "code",
   "execution_count": 17,
   "metadata": {},
   "outputs": [],
   "source": [
    "# Importing the training set\n",
    "dataset_train = pd.read_csv('/Users/vaibhavswami/Desktop/Assignment/capstone/Google_Stock_Price_Train.csv')\n",
    "training_set = dataset_train.iloc[:, 1:2].values"
   ]
  },
  {
   "cell_type": "code",
   "execution_count": 18,
   "metadata": {},
   "outputs": [
    {
     "data": {
      "text/html": [
       "<div>\n",
       "<style scoped>\n",
       "    .dataframe tbody tr th:only-of-type {\n",
       "        vertical-align: middle;\n",
       "    }\n",
       "\n",
       "    .dataframe tbody tr th {\n",
       "        vertical-align: top;\n",
       "    }\n",
       "\n",
       "    .dataframe thead th {\n",
       "        text-align: right;\n",
       "    }\n",
       "</style>\n",
       "<table border=\"1\" class=\"dataframe\">\n",
       "  <thead>\n",
       "    <tr style=\"text-align: right;\">\n",
       "      <th></th>\n",
       "      <th>Date</th>\n",
       "      <th>Open</th>\n",
       "      <th>High</th>\n",
       "      <th>Low</th>\n",
       "      <th>Close</th>\n",
       "      <th>Volume</th>\n",
       "    </tr>\n",
       "  </thead>\n",
       "  <tbody>\n",
       "    <tr>\n",
       "      <th>0</th>\n",
       "      <td>1/3/2012</td>\n",
       "      <td>325.25</td>\n",
       "      <td>332.83</td>\n",
       "      <td>324.97</td>\n",
       "      <td>663.59</td>\n",
       "      <td>7,380,500</td>\n",
       "    </tr>\n",
       "    <tr>\n",
       "      <th>1</th>\n",
       "      <td>1/4/2012</td>\n",
       "      <td>331.27</td>\n",
       "      <td>333.87</td>\n",
       "      <td>329.08</td>\n",
       "      <td>666.45</td>\n",
       "      <td>5,749,400</td>\n",
       "    </tr>\n",
       "    <tr>\n",
       "      <th>2</th>\n",
       "      <td>1/5/2012</td>\n",
       "      <td>329.83</td>\n",
       "      <td>330.75</td>\n",
       "      <td>326.89</td>\n",
       "      <td>657.21</td>\n",
       "      <td>6,590,300</td>\n",
       "    </tr>\n",
       "    <tr>\n",
       "      <th>3</th>\n",
       "      <td>1/6/2012</td>\n",
       "      <td>328.34</td>\n",
       "      <td>328.77</td>\n",
       "      <td>323.68</td>\n",
       "      <td>648.24</td>\n",
       "      <td>5,405,900</td>\n",
       "    </tr>\n",
       "    <tr>\n",
       "      <th>4</th>\n",
       "      <td>1/9/2012</td>\n",
       "      <td>322.04</td>\n",
       "      <td>322.29</td>\n",
       "      <td>309.46</td>\n",
       "      <td>620.76</td>\n",
       "      <td>11,688,800</td>\n",
       "    </tr>\n",
       "  </tbody>\n",
       "</table>\n",
       "</div>"
      ],
      "text/plain": [
       "       Date    Open    High     Low   Close      Volume\n",
       "0  1/3/2012  325.25  332.83  324.97  663.59   7,380,500\n",
       "1  1/4/2012  331.27  333.87  329.08  666.45   5,749,400\n",
       "2  1/5/2012  329.83  330.75  326.89  657.21   6,590,300\n",
       "3  1/6/2012  328.34  328.77  323.68  648.24   5,405,900\n",
       "4  1/9/2012  322.04  322.29  309.46  620.76  11,688,800"
      ]
     },
     "execution_count": 18,
     "metadata": {},
     "output_type": "execute_result"
    }
   ],
   "source": [
    "dataset_train.head()"
   ]
  },
  {
   "cell_type": "code",
   "execution_count": 25,
   "metadata": {},
   "outputs": [],
   "source": [
    "# Feature Scaling\n",
    "from sklearn.preprocessing import MinMaxScaler\n",
    "sc = MinMaxScaler(feature_range = (0, 1))\n",
    "training_set_scaled = sc.fit_transform(training_set)"
   ]
  },
  {
   "cell_type": "code",
   "execution_count": 26,
   "metadata": {},
   "outputs": [],
   "source": [
    "# Creating a data structure with 60 timesteps and 1 output\n",
    "X_train = []\n",
    "y_train = []\n",
    "for i in range(INPUT_SIZE, 1258):\n",
    "    X_train.append(training_set_scaled[i-INPUT_SIZE:i, 0])\n",
    "    y_train.append(training_set_scaled[i, 0])\n",
    "X_train, y_train = np.array(X_train), np.array(y_train)"
   ]
  },
  {
   "cell_type": "code",
   "execution_count": 27,
   "metadata": {},
   "outputs": [],
   "source": [
    "# Reshaping\n",
    "X_train = np.reshape(X_train, (X_train.shape[0], 1, X_train.shape[1]))"
   ]
  },
  {
   "cell_type": "code",
   "execution_count": 28,
   "metadata": {},
   "outputs": [],
   "source": [
    "class RNN(nn.Module):\n",
    "    def __init__(self, i_size, h_size, n_layers, o_size):\n",
    "        super(RNN, self).__init__()\n",
    "\n",
    "        self.rnn = nn.LSTM(\n",
    "            input_size=i_size,\n",
    "            hidden_size=h_size,\n",
    "            num_layers=n_layers\n",
    "        )\n",
    "        self.out = nn.Linear(h_size, o_size)\n",
    "\n",
    "    def forward(self, x, h_state):\n",
    "        r_out, hidden_state = self.rnn(x, h_state)\n",
    "        \n",
    "        hidden_size = hidden_state[-1].size(-1)\n",
    "        r_out = r_out.view(-1, hidden_size)\n",
    "        outs = self.out(r_out)\n",
    "\n",
    "        return outs, hidden_state"
   ]
  },
  {
   "cell_type": "code",
   "execution_count": 29,
   "metadata": {},
   "outputs": [],
   "source": [
    "rnn = RNN(INPUT_SIZE, HIDDEN_SIZE, NUM_LAYERS, OUTPUT_SIZE)\n",
    "\n",
    "optimiser = torch.optim.Adam(rnn.parameters(), lr=learning_rate)\n",
    "criterion = nn.MSELoss()\n",
    "\n",
    "hidden_state = None"
   ]
  },
  {
   "cell_type": "code",
   "execution_count": 30,
   "metadata": {},
   "outputs": [
    {
     "name": "stdout",
     "output_type": "stream",
     "text": [
      "epoch 0, loss 0.38180291652679443\n",
      "epoch 1, loss 0.3136984705924988\n",
      "epoch 2, loss 0.2552768588066101\n",
      "epoch 3, loss 0.20268721878528595\n",
      "epoch 4, loss 0.1541772037744522\n",
      "epoch 5, loss 0.10948669165372849\n",
      "epoch 6, loss 0.06959038972854614\n",
      "epoch 7, loss 0.03691992908716202\n",
      "epoch 8, loss 0.015803584828972816\n",
      "epoch 9, loss 0.012136786244809628\n",
      "epoch 10, loss 0.027590859681367874\n",
      "epoch 11, loss 0.044872622936964035\n",
      "epoch 12, loss 0.04844062775373459\n",
      "epoch 13, loss 0.04089208319783211\n",
      "epoch 14, loss 0.029768284410238266\n",
      "epoch 15, loss 0.02048768848180771\n",
      "epoch 16, loss 0.01518865954130888\n",
      "epoch 17, loss 0.013677572831511497\n",
      "epoch 18, loss 0.014714445918798447\n",
      "epoch 19, loss 0.016915010288357735\n",
      "epoch 20, loss 0.019181616604328156\n",
      "epoch 21, loss 0.02081788331270218\n",
      "epoch 22, loss 0.02149033360183239\n",
      "epoch 23, loss 0.02114230953156948\n",
      "epoch 24, loss 0.019908426329493523\n",
      "epoch 25, loss 0.018043993040919304\n",
      "epoch 26, loss 0.015867864713072777\n",
      "epoch 27, loss 0.013712779618799686\n",
      "epoch 28, loss 0.011877572163939476\n",
      "epoch 29, loss 0.01057961955666542\n",
      "epoch 30, loss 0.009912228211760521\n",
      "epoch 31, loss 0.00981887150555849\n",
      "epoch 32, loss 0.0101008964702487\n",
      "epoch 33, loss 0.01047015842050314\n",
      "epoch 34, loss 0.01063963957130909\n",
      "epoch 35, loss 0.010420595295727253\n",
      "epoch 36, loss 0.009783153422176838\n",
      "epoch 37, loss 0.008852715604007244\n",
      "epoch 38, loss 0.007847781293094158\n",
      "epoch 39, loss 0.006991708185523748\n",
      "epoch 40, loss 0.0064362469129264355\n",
      "epoch 41, loss 0.006221194285899401\n",
      "epoch 42, loss 0.006275944411754608\n",
      "epoch 43, loss 0.0064551616087555885\n",
      "epoch 44, loss 0.006594584323465824\n",
      "epoch 45, loss 0.006569601129740477\n",
      "epoch 46, loss 0.006337178871035576\n",
      "epoch 47, loss 0.005945863202214241\n",
      "epoch 48, loss 0.005510624963790178\n",
      "epoch 49, loss 0.005162494722753763\n"
     ]
    }
   ],
   "source": [
    "for epoch in range(num_epochs):\n",
    "    inputs = Variable(torch.from_numpy(X_train).float())\n",
    "    labels = Variable(torch.from_numpy(y_train).float())\n",
    "\n",
    "    output, hidden_state = rnn(inputs, hidden_state) \n",
    "\n",
    "    loss = criterion(output.view(-1), labels)\n",
    "    optimiser.zero_grad()\n",
    "    loss.backward(retain_graph=True)                     # back propagation\n",
    "    optimiser.step()                                     # update the parameters\n",
    "    \n",
    "    print('epoch {}, loss {}'.format(epoch,loss.item()))"
   ]
  },
  {
   "cell_type": "code",
   "execution_count": 31,
   "metadata": {},
   "outputs": [],
   "source": [
    "# Getting the real stock price of 2017\n",
    "dataset_test = pd.read_csv('/Users/vaibhavswami/Desktop/Assignment/capstone/Google_Stock_Price_Test.csv')\n",
    "real_stock_price = dataset_test.iloc[:, 1:2].values\n",
    "\n",
    "# Getting the predicted stock price of 2017\n",
    "dataset_total = pd.concat((dataset_train['Open'], dataset_test['Open']), axis = 0)\n",
    "inputs = dataset_total[len(dataset_total) - len(dataset_test) - INPUT_SIZE:].values\n",
    "inputs = inputs.reshape(-1,1)\n",
    "inputs = sc.transform(inputs)\n",
    "X_test = []\n",
    "for i in range(INPUT_SIZE, 80):\n",
    "    X_test.append(inputs[i-INPUT_SIZE:i, 0])\n",
    "X_test = np.array(X_test)\n",
    "X_test = np.reshape(X_test, (X_test.shape[0], 1, X_test.shape[1]))"
   ]
  },
  {
   "cell_type": "code",
   "execution_count": 32,
   "metadata": {},
   "outputs": [],
   "source": [
    "X_train_X_test = np.concatenate((X_train, X_test),axis=0)\n",
    "hidden_state = None\n",
    "test_inputs = Variable(torch.from_numpy(X_train_X_test).float())\n",
    "predicted_stock_price, b = rnn(test_inputs, hidden_state)\n",
    "predicted_stock_price = np.reshape(predicted_stock_price.detach().numpy(), (test_inputs.shape[0], 1))\n",
    "predicted_stock_price = sc.inverse_transform(predicted_stock_price)\n",
    "\n",
    "real_stock_price_all = np.concatenate((training_set[INPUT_SIZE:], real_stock_price))"
   ]
  },
  {
   "cell_type": "code",
   "execution_count": 33,
   "metadata": {},
   "outputs": [
    {
     "data": {
      "image/png": "[encoded data removed]",
      "text/plain": [
       "<matplotlib.figure.Figure at 0x1a2b477438>"
      ]
     },
     "metadata": {},
     "output_type": "display_data"
    }
   ],
   "source": [
    "# Visualising the results\n",
    "plt.figure(1, figsize=(12, 5))\n",
    "plt.plot(real_stock_price_all, color = 'red', label = 'Real')\n",
    "plt.plot(predicted_stock_price, color = 'blue', label = 'Pred')\n",
    "plt.title('Google Stock Price Prediction')\n",
    "plt.xlabel('Time')\n",
    "plt.ylabel('Google Stock Price')\n",
    "plt.legend()\n",
    "plt.show()"
   ]
  },
  {
   "cell_type": "code",
   "execution_count": null,
   "metadata": {},
   "outputs": [],
   "source": []
  }
 ],
 "metadata": {
  "kernelspec": {
   "display_name": "Python 3",
   "language": "python",
   "name": "python3"
  },
  "language_info": {
   "codemirror_mode": {
    "name": "ipython",
    "version": 3
   },
   "file_extension": ".py",
   "mimetype": "text/x-python",
   "name": "python",
   "nbconvert_exporter": "python",
   "pygments_lexer": "ipython3",
   "version": "3.6.4"
  }
 },
 "nbformat": 4,
 "nbformat_minor": 2
}
